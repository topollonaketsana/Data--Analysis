{
 "cells": [
  {
   "cell_type": "markdown",
   "id": "6b74f33f-0e99-43f9-9c4a-622f21b1da3a",
   "metadata": {},
   "source": [
    "# Light Cuve project \n",
    "\n",
    "## What is  light Cuve?\n",
    "Is the graph that shows the variation of the braightness of an astronomical object over time."
   ]
  },
  {
   "cell_type": "markdown",
   "id": "2a803d52-0b4c-447e-a754-dbb3f3500e9b",
   "metadata": {},
   "source": [
    "## Overview\n",
    "**Notebook Author:** Topollo Naketsana (University of the Western Cape)<br>\n",
    "\n"
   ]
  },
  {
   "cell_type": "markdown",
   "id": "cac5ef9e-8560-4cce-a4a8-15c8929f4f39",
   "metadata": {},
   "source": [
    "### Objective and Motivation\n",
    "\n",
    "The goal of this project is to generate light curve from large dataset from Gaia telescope.\n",
    "\n",
    "### Motivation\n",
    "Light-Curve can help us study the behavior of variable stars, eclipsing binaries, exoplanets, and other objects that shows changes in brightness."
   ]
  },
  {
   "cell_type": "markdown",
   "id": "313febf7-bd1e-4a31-a247-470974652e7a",
   "metadata": {},
   "source": [
    "### Required dependencies"
   ]
  },
  {
   "cell_type": "markdown",
   "id": "0b3bcfa4-55bb-44ba-9b89-83ca5539e1d7",
   "metadata": {},
   "source": [
    "### Python modules used in this project can be install using the following line (you need python3 to run the following line)\n",
    "### install python 3 [here](https://www.python.org/downloads/)\n",
    "\n",
    "* pandas\n",
    "* seaborn\n",
    "* matplotlib\n",
    "* astropy\n",
    "* numpy\n",
    "* scipy \n",
    "\n"
   ]
  },
  {
   "cell_type": "code",
   "execution_count": 353,
   "id": "ec37df56-7fa6-4fa1-ab99-b5edc9de8c8c",
   "metadata": {
    "tags": []
   },
   "outputs": [
    {
     "name": "stdout",
     "output_type": "stream",
     "text": [
      "Defaulting to user installation because normal site-packages is not writeable\n",
      "Requirement already satisfied: pandas in /opt/miniconda/lib/python3.11/site-packages (from -r requirements.txt (line 1)) (1.4.0)\n",
      "Requirement already satisfied: numpy in /opt/miniconda/lib/python3.11/site-packages (from -r requirements.txt (line 2)) (1.26.4)\n",
      "Requirement already satisfied: seaborn in /home/tnaketsa/.local/lib/python3.11/site-packages (from -r requirements.txt (line 3)) (0.13.2)\n",
      "Requirement already satisfied: astropy in /opt/miniconda/lib/python3.11/site-packages (from -r requirements.txt (line 4)) (5.3.1)\n",
      "Requirement already satisfied: matplotlib in /opt/miniconda/lib/python3.11/site-packages (from -r requirements.txt (line 5)) (3.5.1)\n",
      "Requirement already satisfied: scipy in /home/tnaketsa/.local/lib/python3.11/site-packages (from -r requirements.txt (line 6)) (1.14.1)\n",
      "Requirement already satisfied: python-dateutil>=2.8.1 in /opt/miniconda/lib/python3.11/site-packages (from pandas->-r requirements.txt (line 1)) (2.8.2)\n",
      "Requirement already satisfied: pytz>=2020.1 in /opt/miniconda/lib/python3.11/site-packages (from pandas->-r requirements.txt (line 1)) (2024.1)\n",
      "Requirement already satisfied: pyerfa>=2.0 in /opt/miniconda/lib/python3.11/site-packages (from astropy->-r requirements.txt (line 4)) (2.0.1.1)\n",
      "Requirement already satisfied: PyYAML>=3.13 in /opt/miniconda/lib/python3.11/site-packages (from astropy->-r requirements.txt (line 4)) (6.0.1)\n",
      "Requirement already satisfied: packaging>=19.0 in /opt/miniconda/lib/python3.11/site-packages (from astropy->-r requirements.txt (line 4)) (23.1)\n",
      "Requirement already satisfied: cycler>=0.10 in /opt/miniconda/lib/python3.11/site-packages (from matplotlib->-r requirements.txt (line 5)) (0.12.1)\n",
      "Requirement already satisfied: fonttools>=4.22.0 in /opt/miniconda/lib/python3.11/site-packages (from matplotlib->-r requirements.txt (line 5)) (4.49.0)\n",
      "Requirement already satisfied: kiwisolver>=1.0.1 in /opt/miniconda/lib/python3.11/site-packages (from matplotlib->-r requirements.txt (line 5)) (1.4.5)\n",
      "Requirement already satisfied: pillow>=6.2.0 in /opt/miniconda/lib/python3.11/site-packages (from matplotlib->-r requirements.txt (line 5)) (10.2.0)\n",
      "Requirement already satisfied: pyparsing>=2.2.1 in /opt/miniconda/lib/python3.11/site-packages (from matplotlib->-r requirements.txt (line 5)) (3.1.1)\n",
      "Requirement already satisfied: six>=1.5 in /opt/miniconda/lib/python3.11/site-packages (from python-dateutil>=2.8.1->pandas->-r requirements.txt (line 1)) (1.16.0)\n"
     ]
    }
   ],
   "source": [
    "!pip install -r requirements.txt"
   ]
  },
  {
   "cell_type": "code",
   "execution_count": 354,
   "id": "88295a0d-3114-446d-b11f-2628d15eebaf",
   "metadata": {
    "tags": []
   },
   "outputs": [],
   "source": [
    "import pandas as pd\n",
    "import matplotlib.pyplot as plt\n",
    "import numpy as np\n",
    "import seaborn as sns\n",
    "from astropy.timeseries import LombScargle\n",
    "from scipy import stats"
   ]
  },
  {
   "cell_type": "code",
   "execution_count": 355,
   "id": "3d44520c-bd65-41c7-b616-8454806dc285",
   "metadata": {
    "tags": []
   },
   "outputs": [],
   "source": [
    "# upack data\n",
    "df = pd.read_csv('./data/light_curves_2888421379791798656_2920432350870545280.csv')"
   ]
  },
  {
   "cell_type": "code",
   "execution_count": 356,
   "id": "5f652c1f-bf9d-4e8c-9470-021f44b75483",
   "metadata": {
    "tags": []
   },
   "outputs": [
    {
     "data": {
      "text/html": [
       "<div>\n",
       "<style scoped>\n",
       "    .dataframe tbody tr th:only-of-type {\n",
       "        vertical-align: middle;\n",
       "    }\n",
       "\n",
       "    .dataframe tbody tr th {\n",
       "        vertical-align: top;\n",
       "    }\n",
       "\n",
       "    .dataframe thead th {\n",
       "        text-align: right;\n",
       "    }\n",
       "</style>\n",
       "<table border=\"1\" class=\"dataframe\">\n",
       "  <thead>\n",
       "    <tr style=\"text-align: right;\">\n",
       "      <th></th>\n",
       "      <th>source_id</th>\n",
       "      <th>transit_id</th>\n",
       "      <th>band</th>\n",
       "      <th>time</th>\n",
       "      <th>mag</th>\n",
       "      <th>flux</th>\n",
       "      <th>flux_error</th>\n",
       "      <th>flux_over_error</th>\n",
       "      <th>rejected_by_photometry</th>\n",
       "      <th>rejected_by_variability</th>\n",
       "      <th>other_flags</th>\n",
       "      <th>solution_id</th>\n",
       "    </tr>\n",
       "  </thead>\n",
       "  <tbody>\n",
       "    <tr>\n",
       "      <th>0</th>\n",
       "      <td>2888421379791798656</td>\n",
       "      <td>18097561196185160</td>\n",
       "      <td>G</td>\n",
       "      <td>1724.129144</td>\n",
       "      <td>14.848433</td>\n",
       "      <td>21675.694839</td>\n",
       "      <td>46.572834</td>\n",
       "      <td>465.414980</td>\n",
       "      <td>False</td>\n",
       "      <td>False</td>\n",
       "      <td>4194817</td>\n",
       "      <td>369295549951641967</td>\n",
       "    </tr>\n",
       "    <tr>\n",
       "      <th>1</th>\n",
       "      <td>2888421379791798656</td>\n",
       "      <td>18561527015683277</td>\n",
       "      <td>G</td>\n",
       "      <td>1732.520199</td>\n",
       "      <td>14.609752</td>\n",
       "      <td>27005.092554</td>\n",
       "      <td>40.505355</td>\n",
       "      <td>666.704200</td>\n",
       "      <td>False</td>\n",
       "      <td>False</td>\n",
       "      <td>1</td>\n",
       "      <td>369295549951641967</td>\n",
       "    </tr>\n",
       "    <tr>\n",
       "      <th>2</th>\n",
       "      <td>2888421379791798656</td>\n",
       "      <td>18565619293000074</td>\n",
       "      <td>G</td>\n",
       "      <td>1732.594209</td>\n",
       "      <td>14.754270</td>\n",
       "      <td>23639.496416</td>\n",
       "      <td>30.058065</td>\n",
       "      <td>786.461000</td>\n",
       "      <td>False</td>\n",
       "      <td>False</td>\n",
       "      <td>1</td>\n",
       "      <td>369295549951641967</td>\n",
       "    </tr>\n",
       "    <tr>\n",
       "      <th>3</th>\n",
       "      <td>2888421379791798656</td>\n",
       "      <td>20223969668933227</td>\n",
       "      <td>G</td>\n",
       "      <td>1762.586037</td>\n",
       "      <td>14.781354</td>\n",
       "      <td>23057.100814</td>\n",
       "      <td>36.750823</td>\n",
       "      <td>627.390100</td>\n",
       "      <td>False</td>\n",
       "      <td>False</td>\n",
       "      <td>1</td>\n",
       "      <td>369295549951641967</td>\n",
       "    </tr>\n",
       "    <tr>\n",
       "      <th>4</th>\n",
       "      <td>2888421379791798656</td>\n",
       "      <td>20233710481203819</td>\n",
       "      <td>G</td>\n",
       "      <td>1762.762201</td>\n",
       "      <td>14.675042</td>\n",
       "      <td>25429.011026</td>\n",
       "      <td>36.934728</td>\n",
       "      <td>688.485170</td>\n",
       "      <td>False</td>\n",
       "      <td>False</td>\n",
       "      <td>1</td>\n",
       "      <td>369295549951641967</td>\n",
       "    </tr>\n",
       "    <tr>\n",
       "      <th>...</th>\n",
       "      <td>...</td>\n",
       "      <td>...</td>\n",
       "      <td>...</td>\n",
       "      <td>...</td>\n",
       "      <td>...</td>\n",
       "      <td>...</td>\n",
       "      <td>...</td>\n",
       "      <td>...</td>\n",
       "      <td>...</td>\n",
       "      <td>...</td>\n",
       "      <td>...</td>\n",
       "      <td>...</td>\n",
       "    </tr>\n",
       "    <tr>\n",
       "      <th>127478</th>\n",
       "      <td>2920432350870545280</td>\n",
       "      <td>44399714193666348</td>\n",
       "      <td>RP</td>\n",
       "      <td>2199.794230</td>\n",
       "      <td>15.083732</td>\n",
       "      <td>7434.904358</td>\n",
       "      <td>88.076895</td>\n",
       "      <td>84.413790</td>\n",
       "      <td>False</td>\n",
       "      <td>False</td>\n",
       "      <td>0</td>\n",
       "      <td>369295549951641967</td>\n",
       "    </tr>\n",
       "    <tr>\n",
       "      <th>127479</th>\n",
       "      <td>2920432350870545280</td>\n",
       "      <td>47094600400905727</td>\n",
       "      <td>RP</td>\n",
       "      <td>2248.528325</td>\n",
       "      <td>15.109491</td>\n",
       "      <td>7260.585294</td>\n",
       "      <td>87.596496</td>\n",
       "      <td>82.886710</td>\n",
       "      <td>False</td>\n",
       "      <td>False</td>\n",
       "      <td>0</td>\n",
       "      <td>369295549951641967</td>\n",
       "    </tr>\n",
       "    <tr>\n",
       "      <th>127480</th>\n",
       "      <td>2920432350870545280</td>\n",
       "      <td>47098692647425761</td>\n",
       "      <td>RP</td>\n",
       "      <td>2248.602326</td>\n",
       "      <td>15.080481</td>\n",
       "      <td>7457.198886</td>\n",
       "      <td>86.668078</td>\n",
       "      <td>86.043205</td>\n",
       "      <td>False</td>\n",
       "      <td>False</td>\n",
       "      <td>0</td>\n",
       "      <td>369295549951641967</td>\n",
       "    </tr>\n",
       "    <tr>\n",
       "      <th>127481</th>\n",
       "      <td>2920432350870545280</td>\n",
       "      <td>48701781754949905</td>\n",
       "      <td>RP</td>\n",
       "      <td>2277.591596</td>\n",
       "      <td>15.087089</td>\n",
       "      <td>7411.947515</td>\n",
       "      <td>84.614338</td>\n",
       "      <td>87.596825</td>\n",
       "      <td>False</td>\n",
       "      <td>False</td>\n",
       "      <td>0</td>\n",
       "      <td>369295549951641967</td>\n",
       "    </tr>\n",
       "    <tr>\n",
       "      <th>127482</th>\n",
       "      <td>2920432350870545280</td>\n",
       "      <td>50190206816646869</td>\n",
       "      <td>RP</td>\n",
       "      <td>2304.507245</td>\n",
       "      <td>14.994259</td>\n",
       "      <td>8073.550539</td>\n",
       "      <td>92.461885</td>\n",
       "      <td>87.317604</td>\n",
       "      <td>False</td>\n",
       "      <td>False</td>\n",
       "      <td>0</td>\n",
       "      <td>369295549951641967</td>\n",
       "    </tr>\n",
       "  </tbody>\n",
       "</table>\n",
       "<p>127483 rows × 12 columns</p>\n",
       "</div>"
      ],
      "text/plain": [
       "                  source_id         transit_id band         time        mag  \\\n",
       "0       2888421379791798656  18097561196185160    G  1724.129144  14.848433   \n",
       "1       2888421379791798656  18561527015683277    G  1732.520199  14.609752   \n",
       "2       2888421379791798656  18565619293000074    G  1732.594209  14.754270   \n",
       "3       2888421379791798656  20223969668933227    G  1762.586037  14.781354   \n",
       "4       2888421379791798656  20233710481203819    G  1762.762201  14.675042   \n",
       "...                     ...                ...  ...          ...        ...   \n",
       "127478  2920432350870545280  44399714193666348   RP  2199.794230  15.083732   \n",
       "127479  2920432350870545280  47094600400905727   RP  2248.528325  15.109491   \n",
       "127480  2920432350870545280  47098692647425761   RP  2248.602326  15.080481   \n",
       "127481  2920432350870545280  48701781754949905   RP  2277.591596  15.087089   \n",
       "127482  2920432350870545280  50190206816646869   RP  2304.507245  14.994259   \n",
       "\n",
       "                flux  flux_error  flux_over_error  rejected_by_photometry  \\\n",
       "0       21675.694839   46.572834       465.414980                   False   \n",
       "1       27005.092554   40.505355       666.704200                   False   \n",
       "2       23639.496416   30.058065       786.461000                   False   \n",
       "3       23057.100814   36.750823       627.390100                   False   \n",
       "4       25429.011026   36.934728       688.485170                   False   \n",
       "...              ...         ...              ...                     ...   \n",
       "127478   7434.904358   88.076895        84.413790                   False   \n",
       "127479   7260.585294   87.596496        82.886710                   False   \n",
       "127480   7457.198886   86.668078        86.043205                   False   \n",
       "127481   7411.947515   84.614338        87.596825                   False   \n",
       "127482   8073.550539   92.461885        87.317604                   False   \n",
       "\n",
       "        rejected_by_variability  other_flags         solution_id  \n",
       "0                         False      4194817  369295549951641967  \n",
       "1                         False            1  369295549951641967  \n",
       "2                         False            1  369295549951641967  \n",
       "3                         False            1  369295549951641967  \n",
       "4                         False            1  369295549951641967  \n",
       "...                         ...          ...                 ...  \n",
       "127478                    False            0  369295549951641967  \n",
       "127479                    False            0  369295549951641967  \n",
       "127480                    False            0  369295549951641967  \n",
       "127481                    False            0  369295549951641967  \n",
       "127482                    False            0  369295549951641967  \n",
       "\n",
       "[127483 rows x 12 columns]"
      ]
     },
     "execution_count": 356,
     "metadata": {},
     "output_type": "execute_result"
    }
   ],
   "source": [
    "df"
   ]
  },
  {
   "cell_type": "markdown",
   "id": "e3eda2be-4958-46a1-8a31-6669628a8c1b",
   "metadata": {},
   "source": [
    "### EDA - The exploratory data analysis"
   ]
  },
  {
   "cell_type": "code",
   "execution_count": 357,
   "id": "88fd8022-2841-4983-bcbd-7b700b3478dd",
   "metadata": {
    "tags": []
   },
   "outputs": [
    {
     "name": "stdout",
     "output_type": "stream",
     "text": [
      "<class 'pandas.core.frame.DataFrame'>\n",
      "RangeIndex: 127483 entries, 0 to 127482\n",
      "Data columns (total 12 columns):\n",
      " #   Column                   Non-Null Count   Dtype  \n",
      "---  ------                   --------------   -----  \n",
      " 0   source_id                127483 non-null  int64  \n",
      " 1   transit_id               127483 non-null  int64  \n",
      " 2   band                     127483 non-null  object \n",
      " 3   time                     127483 non-null  float64\n",
      " 4   mag                      127483 non-null  float64\n",
      " 5   flux                     127483 non-null  float64\n",
      " 6   flux_error               127483 non-null  float64\n",
      " 7   flux_over_error          127483 non-null  float64\n",
      " 8   rejected_by_photometry   127483 non-null  bool   \n",
      " 9   rejected_by_variability  127483 non-null  bool   \n",
      " 10  other_flags              127483 non-null  int64  \n",
      " 11  solution_id              127483 non-null  int64  \n",
      "dtypes: bool(2), float64(5), int64(4), object(1)\n",
      "memory usage: 10.0+ MB\n"
     ]
    }
   ],
   "source": [
    "# dataset infomation\n",
    "df.info()"
   ]
  },
  {
   "cell_type": "code",
   "execution_count": 358,
   "id": "bf754edc-6fdd-45f8-8b35-8f31014181b9",
   "metadata": {
    "tags": []
   },
   "outputs": [
    {
     "data": {
      "text/html": [
       "<div>\n",
       "<style scoped>\n",
       "    .dataframe tbody tr th:only-of-type {\n",
       "        vertical-align: middle;\n",
       "    }\n",
       "\n",
       "    .dataframe tbody tr th {\n",
       "        vertical-align: top;\n",
       "    }\n",
       "\n",
       "    .dataframe thead th {\n",
       "        text-align: right;\n",
       "    }\n",
       "</style>\n",
       "<table border=\"1\" class=\"dataframe\">\n",
       "  <thead>\n",
       "    <tr style=\"text-align: right;\">\n",
       "      <th></th>\n",
       "      <th>source_id</th>\n",
       "      <th>transit_id</th>\n",
       "      <th>time</th>\n",
       "      <th>mag</th>\n",
       "      <th>flux</th>\n",
       "      <th>flux_error</th>\n",
       "      <th>flux_over_error</th>\n",
       "      <th>other_flags</th>\n",
       "      <th>solution_id</th>\n",
       "    </tr>\n",
       "  </thead>\n",
       "  <tbody>\n",
       "    <tr>\n",
       "      <th>count</th>\n",
       "      <td>1.274830e+05</td>\n",
       "      <td>1.274830e+05</td>\n",
       "      <td>127483.000000</td>\n",
       "      <td>127483.000000</td>\n",
       "      <td>1.274830e+05</td>\n",
       "      <td>1.274830e+05</td>\n",
       "      <td>127483.000000</td>\n",
       "      <td>1.274830e+05</td>\n",
       "      <td>1.274830e+05</td>\n",
       "    </tr>\n",
       "    <tr>\n",
       "      <th>mean</th>\n",
       "      <td>2.911870e+18</td>\n",
       "      <td>3.300409e+16</td>\n",
       "      <td>1993.707714</td>\n",
       "      <td>15.672236</td>\n",
       "      <td>6.927069e+05</td>\n",
       "      <td>9.949769e+03</td>\n",
       "      <td>228.354400</td>\n",
       "      <td>2.649224e+05</td>\n",
       "      <td>3.692955e+17</td>\n",
       "    </tr>\n",
       "    <tr>\n",
       "      <th>std</th>\n",
       "      <td>7.901725e+15</td>\n",
       "      <td>9.972410e+15</td>\n",
       "      <td>180.345712</td>\n",
       "      <td>2.210572</td>\n",
       "      <td>1.263385e+07</td>\n",
       "      <td>2.564783e+05</td>\n",
       "      <td>320.643265</td>\n",
       "      <td>1.068971e+06</td>\n",
       "      <td>5.637212e+08</td>\n",
       "    </tr>\n",
       "    <tr>\n",
       "      <th>min</th>\n",
       "      <td>2.888421e+18</td>\n",
       "      <td>1.798638e+16</td>\n",
       "      <td>1722.118064</td>\n",
       "      <td>2.899528</td>\n",
       "      <td>1.037489e+00</td>\n",
       "      <td>9.433794e-01</td>\n",
       "      <td>0.017620</td>\n",
       "      <td>0.000000e+00</td>\n",
       "      <td>3.692955e+17</td>\n",
       "    </tr>\n",
       "    <tr>\n",
       "      <th>25%</th>\n",
       "      <td>2.910738e+18</td>\n",
       "      <td>2.326443e+16</td>\n",
       "      <td>1817.573492</td>\n",
       "      <td>14.675592</td>\n",
       "      <td>2.138400e+03</td>\n",
       "      <td>2.992749e+01</td>\n",
       "      <td>46.211662</td>\n",
       "      <td>0.000000e+00</td>\n",
       "      <td>3.692955e+17</td>\n",
       "    </tr>\n",
       "    <tr>\n",
       "      <th>50%</th>\n",
       "      <td>2.915373e+18</td>\n",
       "      <td>3.208974e+16</td>\n",
       "      <td>1977.166496</td>\n",
       "      <td>15.890243</td>\n",
       "      <td>5.386846e+03</td>\n",
       "      <td>5.873536e+01</td>\n",
       "      <td>101.678220</td>\n",
       "      <td>0.000000e+00</td>\n",
       "      <td>3.692955e+17</td>\n",
       "    </tr>\n",
       "    <tr>\n",
       "      <th>75%</th>\n",
       "      <td>2.917327e+18</td>\n",
       "      <td>4.380942e+16</td>\n",
       "      <td>2189.118940</td>\n",
       "      <td>16.985254</td>\n",
       "      <td>1.699674e+04</td>\n",
       "      <td>1.028704e+02</td>\n",
       "      <td>275.653790</td>\n",
       "      <td>1.000000e+00</td>\n",
       "      <td>3.692955e+17</td>\n",
       "    </tr>\n",
       "    <tr>\n",
       "      <th>max</th>\n",
       "      <td>2.920432e+18</td>\n",
       "      <td>5.022191e+16</td>\n",
       "      <td>2305.080771</td>\n",
       "      <td>25.311429</td>\n",
       "      <td>5.558490e+08</td>\n",
       "      <td>2.486537e+07</td>\n",
       "      <td>13824.642000</td>\n",
       "      <td>8.356355e+06</td>\n",
       "      <td>3.692956e+17</td>\n",
       "    </tr>\n",
       "  </tbody>\n",
       "</table>\n",
       "</div>"
      ],
      "text/plain": [
       "          source_id    transit_id           time            mag          flux  \\\n",
       "count  1.274830e+05  1.274830e+05  127483.000000  127483.000000  1.274830e+05   \n",
       "mean   2.911870e+18  3.300409e+16    1993.707714      15.672236  6.927069e+05   \n",
       "std    7.901725e+15  9.972410e+15     180.345712       2.210572  1.263385e+07   \n",
       "min    2.888421e+18  1.798638e+16    1722.118064       2.899528  1.037489e+00   \n",
       "25%    2.910738e+18  2.326443e+16    1817.573492      14.675592  2.138400e+03   \n",
       "50%    2.915373e+18  3.208974e+16    1977.166496      15.890243  5.386846e+03   \n",
       "75%    2.917327e+18  4.380942e+16    2189.118940      16.985254  1.699674e+04   \n",
       "max    2.920432e+18  5.022191e+16    2305.080771      25.311429  5.558490e+08   \n",
       "\n",
       "         flux_error  flux_over_error   other_flags   solution_id  \n",
       "count  1.274830e+05    127483.000000  1.274830e+05  1.274830e+05  \n",
       "mean   9.949769e+03       228.354400  2.649224e+05  3.692955e+17  \n",
       "std    2.564783e+05       320.643265  1.068971e+06  5.637212e+08  \n",
       "min    9.433794e-01         0.017620  0.000000e+00  3.692955e+17  \n",
       "25%    2.992749e+01        46.211662  0.000000e+00  3.692955e+17  \n",
       "50%    5.873536e+01       101.678220  0.000000e+00  3.692955e+17  \n",
       "75%    1.028704e+02       275.653790  1.000000e+00  3.692955e+17  \n",
       "max    2.486537e+07     13824.642000  8.356355e+06  3.692956e+17  "
      ]
     },
     "execution_count": 358,
     "metadata": {},
     "output_type": "execute_result"
    }
   ],
   "source": [
    "df.describe()"
   ]
  },
  {
   "cell_type": "code",
   "execution_count": 359,
   "id": "0993db7c-9517-4d51-a2a1-fef99a036862",
   "metadata": {
    "tags": []
   },
   "outputs": [
    {
     "data": {
      "text/plain": [
       "source_id                    int64\n",
       "transit_id                   int64\n",
       "band                        object\n",
       "time                       float64\n",
       "mag                        float64\n",
       "flux                       float64\n",
       "flux_error                 float64\n",
       "flux_over_error            float64\n",
       "rejected_by_photometry        bool\n",
       "rejected_by_variability       bool\n",
       "other_flags                  int64\n",
       "solution_id                  int64\n",
       "dtype: object"
      ]
     },
     "execution_count": 359,
     "metadata": {},
     "output_type": "execute_result"
    }
   ],
   "source": [
    "df.dtypes"
   ]
  },
  {
   "cell_type": "code",
   "execution_count": 360,
   "id": "18cd247c-6d3c-4ea6-9441-dabff709356f",
   "metadata": {
    "tags": []
   },
   "outputs": [
    {
     "data": {
      "text/plain": [
       "0"
      ]
     },
     "execution_count": 360,
     "metadata": {},
     "output_type": "execute_result"
    }
   ],
   "source": [
    "# the missing values\n",
    "df.isna().sum().sum()"
   ]
  },
  {
   "cell_type": "markdown",
   "id": "020513bf-62e3-4f5c-843d-dfa3c4c349f5",
   "metadata": {},
   "source": [
    "#### The color bands: "
   ]
  },
  {
   "cell_type": "code",
   "execution_count": 361,
   "id": "78e6d998-5a90-4729-850a-aef417ba68e0",
   "metadata": {
    "tags": []
   },
   "outputs": [
    {
     "data": {
      "text/plain": [
       "G     45273\n",
       "BP    41233\n",
       "RP    40977\n",
       "Name: band, dtype: int64"
      ]
     },
     "execution_count": 361,
     "metadata": {},
     "output_type": "execute_result"
    }
   ],
   "source": [
    "# the bands and their counts\n",
    "df['band'].value_counts()"
   ]
  },
  {
   "cell_type": "code",
   "execution_count": 362,
   "id": "8a85b9b2-6bae-470a-8e20-ff8ece78e57e",
   "metadata": {
    "tags": []
   },
   "outputs": [
    {
     "name": "stdout",
     "output_type": "stream",
     "text": [
      "flux                       1.000000\n",
      "flux_error                 0.852612\n",
      "rejected_by_variability    0.129606\n",
      "transit_id                 0.010668\n",
      "time                       0.010668\n",
      "other_flags                0.002856\n",
      "flux_over_error           -0.008073\n",
      "source_id                 -0.013790\n",
      "solution_id               -0.024991\n",
      "mag                       -0.253761\n",
      "rejected_by_photometry          NaN\n",
      "Name: flux, dtype: float64\n"
     ]
    }
   ],
   "source": [
    "# correllations - hows everything related to the mag\n",
    "corr = df.corr(numeric_only= True)\n",
    "print(corr['flux'].sort_values(ascending= False))"
   ]
  },
  {
   "cell_type": "code",
   "execution_count": 363,
   "id": "07261d7d-d77d-47aa-8f97-e5a0769854d1",
   "metadata": {},
   "outputs": [
    {
     "data": {
      "text/plain": [
       "0"
      ]
     },
     "execution_count": 363,
     "metadata": {},
     "output_type": "execute_result"
    }
   ],
   "source": [
    "# checking duplicates\n",
    "df.duplicated().sum()"
   ]
  },
  {
   "cell_type": "code",
   "execution_count": null,
   "id": "1b8ff06f-a218-4989-8b63-930a2ef80b42",
   "metadata": {},
   "outputs": [],
   "source": []
  },
  {
   "cell_type": "code",
   "execution_count": null,
   "id": "80d3c9de-f7b6-4dad-8f66-3c3082b74e0b",
   "metadata": {
    "tags": []
   },
   "outputs": [],
   "source": []
  },
  {
   "cell_type": "code",
   "execution_count": 364,
   "id": "a3285062-fe43-4923-9665-4a8c3234e95e",
   "metadata": {
    "tags": []
   },
   "outputs": [
    {
     "name": "stdout",
     "output_type": "stream",
     "text": [
      "source_id          0.000000\n",
      "transit_id         0.000000\n",
      "time               0.000000\n",
      "mag                0.018018\n",
      "flux               0.002165\n",
      "flux_error         0.001851\n",
      "flux_over_error    0.021932\n",
      "other_flags        0.056917\n",
      "solution_id        0.032475\n",
      "dtype: float64\n"
     ]
    }
   ],
   "source": [
    "# checking the outliers using zscore\n",
    "def check_outliers(data, threshold= 3):\n",
    "    numeric_data = data.select_dtypes(include= [np.number])   # only numerics\n",
    "    z = np.abs(stats.zscore(numeric_data))\n",
    "    return z > threshold\n",
    "\n",
    "# check outliers\n",
    "outliers = check_outliers(df)\n",
    "print(outliers.mean())"
   ]
  },
  {
   "cell_type": "code",
   "execution_count": 365,
   "id": "a2b411ad-01a3-45d8-a2ca-7d24a160df61",
   "metadata": {
    "tags": []
   },
   "outputs": [],
   "source": [
    "# Remove outliers - any row with an outlier\n",
    "cleaned_data = df[(~outliers).any(axis= 1)]"
   ]
  },
  {
   "cell_type": "code",
   "execution_count": 366,
   "id": "f791bf98-87f6-4215-8954-4b0f6959710e",
   "metadata": {
    "tags": []
   },
   "outputs": [
    {
     "data": {
      "text/plain": [
       "(127483, 12)"
      ]
     },
     "execution_count": 366,
     "metadata": {},
     "output_type": "execute_result"
    }
   ],
   "source": [
    "# size of cleaned data \n",
    "cleaned_data.shape"
   ]
  },
  {
   "cell_type": "code",
   "execution_count": null,
   "id": "477beffa-92b7-4993-a018-098169ba2fde",
   "metadata": {
    "tags": []
   },
   "outputs": [],
   "source": []
  },
  {
   "cell_type": "code",
   "execution_count": null,
   "id": "1c6226d7-95d1-456c-b8ee-c0877d907930",
   "metadata": {},
   "outputs": [],
   "source": []
  },
  {
   "cell_type": "code",
   "execution_count": 367,
   "id": "666a1189-882b-4952-8d86-d2aa2e3eb838",
   "metadata": {},
   "outputs": [],
   "source": [
    "###################"
   ]
  },
  {
   "cell_type": "code",
   "execution_count": 368,
   "id": "a9a1b03d-3a05-4d72-9d96-eb5e31ff6454",
   "metadata": {},
   "outputs": [],
   "source": [
    "###################"
   ]
  },
  {
   "cell_type": "code",
   "execution_count": 369,
   "id": "e352fc89-a3d1-4272-98cc-dc679836f40b",
   "metadata": {},
   "outputs": [],
   "source": [
    "###################"
   ]
  },
  {
   "cell_type": "markdown",
   "id": "b12d37f9-df4f-4860-9d20-ac8a3a9a98f6",
   "metadata": {},
   "source": [
    "### Visualization using the cleaned data"
   ]
  },
  {
   "cell_type": "code",
   "execution_count": 370,
   "id": "618e69f3-8176-4a83-9b69-b848ef661e15",
   "metadata": {
    "tags": []
   },
   "outputs": [
    {
     "data": {
      "text/plain": [
       "<seaborn.axisgrid.FacetGrid at 0x7ff04b15cbd0>"
      ]
     },
     "execution_count": 370,
     "metadata": {},
     "output_type": "execute_result"
    },
    {
     "data": {
      "image/png": "[encoded data removed]",
      "text/plain": [
       "<Figure size 500x500 with 1 Axes>"
      ]
     },
     "metadata": {},
     "output_type": "display_data"
    }
   ],
   "source": [
    "# ploting the distribution of the mag to see where it ranges\n",
    "sns.displot(cleaned_data['mag'])"
   ]
  },
  {
   "cell_type": "markdown",
   "id": "f63a0579-1531-4d09-b485-a3b75308f3f2",
   "metadata": {},
   "source": [
    "#### From the distribution plot of mag, its clear that the magnitude is rougly 2 < mag < 25, but mostly distributed around 14 - 20"
   ]
  },
  {
   "cell_type": "code",
   "execution_count": 371,
   "id": "13b030db-2da8-4f89-ad81-229d6e73739e",
   "metadata": {
    "tags": []
   },
   "outputs": [
    {
     "data": {
      "text/plain": [
       "<AxesSubplot:xlabel='band', ylabel='count'>"
      ]
     },
     "execution_count": 371,
     "metadata": {},
     "output_type": "execute_result"
    },
    {
     "data": {
      "image/png": "[encoded data removed]",
      "text/plain": [
       "<Figure size 640x480 with 1 Axes>"
      ]
     },
     "metadata": {},
     "output_type": "display_data"
    }
   ],
   "source": [
    "# Categorical representation of color band G, BP and RP  \n",
    "sns.countplot(x= 'band', data= cleaned_data)"
   ]
  },
  {
   "cell_type": "code",
   "execution_count": 372,
   "id": "e32bf79c-eed4-42de-82ba-03dbc52a451f",
   "metadata": {},
   "outputs": [
    {
     "data": {
      "text/plain": [
       "Text(0, 0.5, 'Magnitude')"
      ]
     },
     "execution_count": 372,
     "metadata": {},
     "output_type": "execute_result"
    },
    {
     "data": {
      "image/png": "[encoded data removed]",
      "text/plain": [
       "<Figure size 640x480 with 1 Axes>"
      ]
     },
     "metadata": {},
     "output_type": "display_data"
    }
   ],
   "source": [
    "# plot \n",
    "plt.scatter(df['time'], df['mag'])\n",
    "\n",
    "plt.xlabel('Time (BJD)')\n",
    "plt.ylabel('Magnitude')"
   ]
  },
  {
   "cell_type": "markdown",
   "id": "33befdea-b59c-411b-9e78-5a54153ac77f",
   "metadata": {},
   "source": [
    "### Extracting the period from light curve data "
   ]
  },
  {
   "cell_type": "markdown",
   "id": "01ac1948-2f6c-44a4-a5bd-0f4262a29877",
   "metadata": {},
   "source": [
    "We use the method called 'a Periodogrm' - the method that uses the statistical tool to extract the frequency signals. It is based on the Least square fit of sinusoids, it is similar to the Fourier Analysis.\n",
    "\n",
    "We use a special kind of periodogram called the Lomb-Scargle (LS) periodogram (after Lomb<a href=\"#ref1\">[1]</a>, and Scargle[\\[2\\]](#ref2)).\n",
    "\n",
    "### The background:\n"
   ]
  },
  {
   "cell_type": "code",
   "execution_count": null,
   "id": "d34014ba-07f5-4c50-b4c9-eb0c78233966",
   "metadata": {},
   "outputs": [],
   "source": []
  },
  {
   "cell_type": "code",
   "execution_count": 373,
   "id": "246d5631-d70c-4954-b2fd-c1666a6fe92c",
   "metadata": {
    "tags": []
   },
   "outputs": [],
   "source": [
    "time = cleaned_data['time']\n",
    "flux = cleaned_data['flux']\n",
    "flux_err = cleaned_data['flux_error']"
   ]
  },
  {
   "cell_type": "code",
   "execution_count": 374,
   "id": "316f7acc-6988-4821-adf3-af754d414a0d",
   "metadata": {
    "tags": []
   },
   "outputs": [
    {
     "data": {
      "image/png": "[encoded data removed]",
      "text/plain": [
       "<Figure size 640x480 with 1 Axes>"
      ]
     },
     "metadata": {},
     "output_type": "display_data"
    },
    {
     "name": "stdout",
     "output_type": "stream",
     "text": [
      "Best Period Found: 0.0035\n"
     ]
    }
   ],
   "source": [
    "# the Lomb_Scargle function\n",
    "def lomb_scargle(time, flux, flux_err):\n",
    "    freq, power = LombScargle(time, flux).autopower()\n",
    "    best_freq = freq[np.argmax(power)]\n",
    "    \n",
    "    # plot of freq and power\n",
    "    plt.plot(freq, power)\n",
    "    plt.xlabel('Frequency')\n",
    "    plt.ylabel('Power')\n",
    "    plt.show()\n",
    "    \n",
    "    period = 1 / best_freq\n",
    "    print(f'Best Period Found: {period:.4f}')\n",
    "    return period           # returning the period = 1 / freq\n",
    "\n",
    "period = lomb_scargle(time, flux, flux_err)"
   ]
  },
  {
   "cell_type": "code",
   "execution_count": 375,
   "id": "399086c8-552f-41ff-b409-94ad32cae5ab",
   "metadata": {},
   "outputs": [],
   "source": [
    "# Phase folding using the approximated period\n",
    "def phase_fold(time, flux, period):\n",
    "    phases = np.remainder(time, period) / period\n",
    "    phases = np.concatenate((phases, phases + 1))\n",
    "    flux = np.concatenate((flux, flux))\n",
    "    plt.scatter(phases, flux, marker= '.')\n",
    "    plt.xlabel('Phase')\n",
    "    plt.ylabel('Brightness')\n",
    "    \n",
    "    print(period)"
   ]
  },
  {
   "cell_type": "code",
   "execution_count": 376,
   "id": "1cf42e81-0a9a-4372-92d9-0ce262d0dffc",
   "metadata": {},
   "outputs": [],
   "source": [
    "def plot_best_period(time, flux, flux_err):\n",
    "    phase_fold(time, flux, lomb_scargle(time, flux, flux_err))"
   ]
  },
  {
   "cell_type": "code",
   "execution_count": 377,
   "id": "209505a1-b20e-4b88-8c22-1c04541994f8",
   "metadata": {},
   "outputs": [
    {
     "name": "stdout",
     "output_type": "stream",
     "text": [
      "0.003529208074384729\n"
     ]
    },
    {
     "data": {
      "image/png": "[encoded data removed]",
      "text/plain": [
       "<Figure size 640x480 with 1 Axes>"
      ]
     },
     "metadata": {},
     "output_type": "display_data"
    }
   ],
   "source": [
    "phase_fold(time, flux, period)"
   ]
  },
  {
   "cell_type": "code",
   "execution_count": null,
   "id": "12390090-a5ca-4bd7-ad02-4aff0fb0b62b",
   "metadata": {
    "tags": []
   },
   "outputs": [],
   "source": []
  },
  {
   "cell_type": "markdown",
   "id": "564b3809-776b-4d55-a4ba-872f61fae34b",
   "metadata": {},
   "source": [
    "##################################################"
   ]
  },
  {
   "cell_type": "markdown",
   "id": "aece3575-6806-4101-9e8f-e94e6ec6f131",
   "metadata": {},
   "source": [
    "### try FFT"
   ]
  },
  {
   "cell_type": "code",
   "execution_count": null,
   "id": "a253f72a-12fe-4808-b58d-ccb6993da6e9",
   "metadata": {
    "tags": []
   },
   "outputs": [],
   "source": [
    "# "
   ]
  },
  {
   "cell_type": "code",
   "execution_count": null,
   "id": "4465310e-1069-4139-88fe-5be1287a2e2e",
   "metadata": {
    "tags": []
   },
   "outputs": [],
   "source": []
  },
  {
   "cell_type": "code",
   "execution_count": null,
   "id": "c58487d9-41b7-47e7-97c7-be2144d5dcef",
   "metadata": {
    "tags": []
   },
   "outputs": [],
   "source": []
  },
  {
   "cell_type": "code",
   "execution_count": null,
   "id": "25fb8e3a-363d-43d3-b495-d5f3e76bb4b9",
   "metadata": {},
   "outputs": [],
   "source": []
  }
 ],
 "metadata": {
  "kernelspec": {
   "display_name": "Python 3 (ipykernel)",
   "language": "python",
   "name": "python3"
  },
  "language_info": {
   "codemirror_mode": {
    "name": "ipython",
    "version": 3
   },
   "file_extension": ".py",
   "mimetype": "text/x-python",
   "name": "python",
   "nbconvert_exporter": "python",
   "pygments_lexer": "ipython3",
   "version": "3.11.5"
  }
 },
 "nbformat": 4,
 "nbformat_minor": 5
}
